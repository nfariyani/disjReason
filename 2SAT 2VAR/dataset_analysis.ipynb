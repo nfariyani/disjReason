{
 "cells": [
  {
   "cell_type": "code",
   "execution_count": 41,
   "metadata": {
    "colab": {
     "base_uri": "https://localhost:8080/"
    },
    "executionInfo": {
     "elapsed": 1723,
     "status": "ok",
     "timestamp": 1647881251927,
     "user": {
      "displayName": "Nurul Ariyani",
      "photoUrl": "https://lh3.googleusercontent.com/a-/AOh14GhvEAOiffSleor2Ddf_32vbJoE2vtwPjqtx9PdAjg=s64",
      "userId": "15069198330605328757"
     },
     "user_tz": 0
    },
    "id": "xrsiq11Qzh37",
    "outputId": "2dfecf2e-db74-4a56-b624-27123aa21d2b"
   },
   "outputs": [
    {
     "name": "stdout",
     "output_type": "stream",
     "text": [
      "Drive already mounted at /content/drive; to attempt to forcibly remount, call drive.mount(\"/content/drive\", force_remount=True).\n"
     ]
    }
   ],
   "source": [
    "import random\n",
    "from google.colab import drive\n",
    "drive.mount('/content/drive')"
   ]
  },
  {
   "cell_type": "code",
   "execution_count": 3,
   "metadata": {},
   "outputs": [
    {
     "name": "stdout",
     "output_type": "stream",
     "text": [
      "C:\\Users\\Narul\\Documents\\Thesis\\Jupyter Projects\\disjReason\\2SAT 2VAR\n"
     ]
    }
   ],
   "source": [
    "import os\n",
    "cwd = os.getcwd()\n",
    "print(cwd)"
   ]
  },
  {
   "cell_type": "code",
   "execution_count": 22,
   "metadata": {
    "executionInfo": {
     "elapsed": 696,
     "status": "ok",
     "timestamp": 1647881252619,
     "user": {
      "displayName": "Nurul Ariyani",
      "photoUrl": "https://lh3.googleusercontent.com/a-/AOh14GhvEAOiffSleor2Ddf_32vbJoE2vtwPjqtx9PdAjg=s64",
      "userId": "15069198330605328757"
     },
     "user_tz": 0
    },
    "id": "FRaWkUgR2IxS"
   },
   "outputs": [],
   "source": [
    "import pandas as pd\n",
    "import math\n",
    "\n",
    "df_train = pd.read_csv('./dataset/small_10K/train_data_10K.csv', sep=',', engine=\"python\")\n",
    "df_eval = pd.read_csv('./dataset/small_10K/eval_data_10K.csv', sep=',', engine=\"python\")\n",
    "df_test = pd.read_csv('./dataset/small_10K/test_data_10K.csv', sep=',', engine=\"python\")"
   ]
  },
  {
   "cell_type": "code",
   "execution_count": 23,
   "metadata": {
    "colab": {
     "base_uri": "https://localhost:8080/",
     "height": 337
    },
    "executionInfo": {
     "elapsed": 9,
     "status": "ok",
     "timestamp": 1647881252620,
     "user": {
      "displayName": "Nurul Ariyani",
      "photoUrl": "https://lh3.googleusercontent.com/a-/AOh14GhvEAOiffSleor2Ddf_32vbJoE2vtwPjqtx9PdAjg=s64",
      "userId": "15069198330605328757"
     },
     "user_tz": 0
    },
    "id": "p_eXTuskTI11",
    "outputId": "92bcfbee-5297-4c8e-84fb-62aec16d817a"
   },
   "outputs": [
    {
     "data": {
      "text/html": [
       "<div>\n",
       "<style scoped>\n",
       "    .dataframe tbody tr th:only-of-type {\n",
       "        vertical-align: middle;\n",
       "    }\n",
       "\n",
       "    .dataframe tbody tr th {\n",
       "        vertical-align: top;\n",
       "    }\n",
       "\n",
       "    .dataframe thead th {\n",
       "        text-align: right;\n",
       "    }\n",
       "</style>\n",
       "<table border=\"1\" class=\"dataframe\">\n",
       "  <thead>\n",
       "    <tr style=\"text-align: right;\">\n",
       "      <th></th>\n",
       "      <th>idx</th>\n",
       "      <th>is_inclusive</th>\n",
       "      <th>premise</th>\n",
       "      <th>question</th>\n",
       "      <th>label</th>\n",
       "    </tr>\n",
       "  </thead>\n",
       "  <tbody>\n",
       "    <tr>\n",
       "      <th>0</th>\n",
       "      <td>1</td>\n",
       "      <td>1</td>\n",
       "      <td>Krystal is well-rounded or Laken is short-temp...</td>\n",
       "      <td>Krystal is well-rounded</td>\n",
       "      <td>1</td>\n",
       "    </tr>\n",
       "    <tr>\n",
       "      <th>1</th>\n",
       "      <td>2</td>\n",
       "      <td>1</td>\n",
       "      <td>Krystal is well-rounded or Laken is short-temp...</td>\n",
       "      <td>Krystal is not well-rounded</td>\n",
       "      <td>1</td>\n",
       "    </tr>\n",
       "    <tr>\n",
       "      <th>2</th>\n",
       "      <td>3</td>\n",
       "      <td>1</td>\n",
       "      <td>Krystal is well-rounded or Laken is short-temp...</td>\n",
       "      <td>Laken is short-tempered</td>\n",
       "      <td>1</td>\n",
       "    </tr>\n",
       "    <tr>\n",
       "      <th>3</th>\n",
       "      <td>4</td>\n",
       "      <td>1</td>\n",
       "      <td>Krystal is well-rounded or Laken is short-temp...</td>\n",
       "      <td>Laken is not short-tempered</td>\n",
       "      <td>0</td>\n",
       "    </tr>\n",
       "    <tr>\n",
       "      <th>4</th>\n",
       "      <td>5</td>\n",
       "      <td>1</td>\n",
       "      <td>Lacey is not below average or Nia is not warmh...</td>\n",
       "      <td>Lacey is below</td>\n",
       "      <td>0</td>\n",
       "    </tr>\n",
       "  </tbody>\n",
       "</table>\n",
       "</div>"
      ],
      "text/plain": [
       "   idx  is_inclusive                                            premise  \\\n",
       "0    1             1  Krystal is well-rounded or Laken is short-temp...   \n",
       "1    2             1  Krystal is well-rounded or Laken is short-temp...   \n",
       "2    3             1  Krystal is well-rounded or Laken is short-temp...   \n",
       "3    4             1  Krystal is well-rounded or Laken is short-temp...   \n",
       "4    5             1  Lacey is not below average or Nia is not warmh...   \n",
       "\n",
       "                      question  label  \n",
       "0      Krystal is well-rounded      1  \n",
       "1  Krystal is not well-rounded      1  \n",
       "2      Laken is short-tempered      1  \n",
       "3  Laken is not short-tempered      0  \n",
       "4               Lacey is below      0  "
      ]
     },
     "execution_count": 23,
     "metadata": {},
     "output_type": "execute_result"
    }
   ],
   "source": [
    "df_test.head()"
   ]
  },
  {
   "cell_type": "code",
   "execution_count": 24,
   "metadata": {
    "colab": {
     "base_uri": "https://localhost:8080/"
    },
    "executionInfo": {
     "elapsed": 397,
     "status": "ok",
     "timestamp": 1647881253011,
     "user": {
      "displayName": "Nurul Ariyani",
      "photoUrl": "https://lh3.googleusercontent.com/a-/AOh14GhvEAOiffSleor2Ddf_32vbJoE2vtwPjqtx9PdAjg=s64",
      "userId": "15069198330605328757"
     },
     "user_tz": 0
    },
    "id": "ayzDwJMDTK0P",
    "outputId": "3c05b5c5-6524-4c56-e97c-e34c948c7eab"
   },
   "outputs": [
    {
     "name": "stdout",
     "output_type": "stream",
     "text": [
      "Number of OR examples eval :  488\n",
      "Number of XOR examples eval :  512\n"
     ]
    }
   ],
   "source": [
    "df_eval = df_eval.apply(lambda x : True if x['is_inclusive'] == 1 else False, axis = 1)\n",
    "\n",
    "num_rows_pos_eval = len(df_eval[df_eval == True].index)\n",
    "num_rows_neg_eval = len(df_eval[df_eval == False].index)\n",
    "\n",
    "print('Number of OR examples eval : ', num_rows_pos_eval)\n",
    "print('Number of XOR examples eval : ', num_rows_neg_eval)"
   ]
  },
  {
   "cell_type": "code",
   "execution_count": 25,
   "metadata": {
    "colab": {
     "base_uri": "https://localhost:8080/"
    },
    "executionInfo": {
     "elapsed": 998,
     "status": "ok",
     "timestamp": 1647881254006,
     "user": {
      "displayName": "Nurul Ariyani",
      "photoUrl": "https://lh3.googleusercontent.com/a-/AOh14GhvEAOiffSleor2Ddf_32vbJoE2vtwPjqtx9PdAjg=s64",
      "userId": "15069198330605328757"
     },
     "user_tz": 0
    },
    "id": "-4zfu6OUT-ax",
    "outputId": "4a85ecc4-20ed-4981-a847-b1bd3a59f406"
   },
   "outputs": [
    {
     "name": "stdout",
     "output_type": "stream",
     "text": [
      "Number of OR examples train :  5016\n",
      "Number of XOR examples train :  4984\n"
     ]
    }
   ],
   "source": [
    "df_train = df_train.apply(lambda x : True if x['is_inclusive'] == 1 else False, axis = 1)\n",
    "\n",
    "num_rows_pos_train = len(df_train[df_train == True].index)\n",
    "num_rows_neg_train = len(df_train[df_train == False].index)\n",
    "\n",
    "print('Number of OR examples train : ', num_rows_pos_train)\n",
    "print('Number of XOR examples train : ', num_rows_neg_train)"
   ]
  },
  {
   "cell_type": "code",
   "execution_count": 26,
   "metadata": {
    "colab": {
     "base_uri": "https://localhost:8080/"
    },
    "executionInfo": {
     "elapsed": 9,
     "status": "ok",
     "timestamp": 1647881254007,
     "user": {
      "displayName": "Nurul Ariyani",
      "photoUrl": "https://lh3.googleusercontent.com/a-/AOh14GhvEAOiffSleor2Ddf_32vbJoE2vtwPjqtx9PdAjg=s64",
      "userId": "15069198330605328757"
     },
     "user_tz": 0
    },
    "id": "zNGIaKl6VWOD",
    "outputId": "e9887af9-0403-4e23-ec27-2df760fb3693"
   },
   "outputs": [
    {
     "name": "stdout",
     "output_type": "stream",
     "text": [
      "Number of OR examples test :  496\n",
      "Number of XOR examples test :  504\n"
     ]
    }
   ],
   "source": [
    "df_test = df_test.apply(lambda x : True if x['is_inclusive'] == 1 else False, axis = 1)\n",
    "\n",
    "num_rows_pos_test = len(df_test[df_test == True].index)\n",
    "num_rows_neg_test = len(df_test[df_test == False].index)\n",
    "\n",
    "print('Number of OR examples test : ', num_rows_pos_test)\n",
    "print('Number of XOR examples test : ', num_rows_neg_test)"
   ]
  },
  {
   "cell_type": "code",
   "execution_count": null,
   "metadata": {},
   "outputs": [],
   "source": []
  }
 ],
 "metadata": {
  "colab": {
   "authorship_tag": "ABX9TyN84Z2AHCB4k5UgLDg1VjV6",
   "collapsed_sections": [],
   "name": "dataset_analysis.ipynb",
   "provenance": []
  },
  "kernelspec": {
   "display_name": "Python 3 (ipykernel)",
   "language": "python",
   "name": "python3"
  },
  "language_info": {
   "codemirror_mode": {
    "name": "ipython",
    "version": 3
   },
   "file_extension": ".py",
   "mimetype": "text/x-python",
   "name": "python",
   "nbconvert_exporter": "python",
   "pygments_lexer": "ipython3",
   "version": "3.8.10"
  }
 },
 "nbformat": 4,
 "nbformat_minor": 4
}
